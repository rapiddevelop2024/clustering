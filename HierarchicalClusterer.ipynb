{
 "cells": [
  {
   "cell_type": "code",
   "execution_count": 1,
   "id": "6fa377e3",
   "metadata": {},
   "outputs": [],
   "source": [
    "import numpy as np\n",
    "from scipy.cluster.hierarchy import linkage, fcluster\n",
    "from scipy.spatial.distance import pdist"
   ]
  },
  {
   "cell_type": "code",
   "execution_count": 2,
   "id": "35cf9d38",
   "metadata": {},
   "outputs": [],
   "source": [
    "class HierarchicalClusterer:\n",
    "    def __init__(self, data, method='ward', threshold=1.5, criterion='distance'):\n",
    "        \"\"\"\n",
    "        Initialize the HierarchicalClusterer with data, linkage method, threshold, and criterion.\n",
    "        مقداردهی اولیه خوشه‌بند سلسله‌مراتبی با داده‌ها، روش پیوند، آستانه، و معیار.\n",
    "        تهيئة الكلاستر الهرمي بالبيانات، طريقة الربط، العتبة، والمعيار.\n",
    "        Initialiser le clusterer hiérarchique avec les données, méthode de liaison, seuil, et critère.\n",
    "        \"\"\"\n",
    "        self.data = data\n",
    "        self.method = method\n",
    "        self.threshold = threshold\n",
    "        self.criterion = criterion\n",
    "        self.linkage_matrix = None\n",
    "\n",
    "    def fit(self):\n",
    "        \"\"\"\n",
    "        Perform hierarchical clustering on the data.\n",
    "        انجام خوشه‌بندی سلسله‌مراتبی روی داده‌ها.\n",
    "        إجراء التصنيف الهرمي على البيانات.\n",
    "        Effectuer le clustering hiérarchique sur les données.\n",
    "        \"\"\"\n",
    "        # Compute the distance matrix and linkage matrix using the specified method.\n",
    "        # محاسبه ماتریس فاصله و ماتریس پیوند با استفاده از روش مشخص شده.\n",
    "        # حساب مصفوفة المسافة ومصفوفة الربط باستخدام الطريقة المحددة.\n",
    "        # Calculer la matrice de distance et la matrice de liaison en utilisant la méthode spécifiée.\n",
    "        self.linkage_matrix = linkage(self.data, method=self.method)\n",
    "\n",
    "    def predict(self):\n",
    "        \"\"\"\n",
    "        Predict cluster labels based on the threshold and criterion.\n",
    "        پیش‌بینی برچسب‌های خوشه براساس آستانه و معیار.\n",
    "        التنبؤ بتسميات المجموعات بناءً على العتبة والمعيار.\n",
    "        Prédire les étiquettes de clusters en fonction du seuil et du critère.\n",
    "        \"\"\"\n",
    "        if self.linkage_matrix is None:\n",
    "            raise Exception(\"Model not fitted. Call the fit() method first.\")\n",
    "        \n",
    "        # Assign cluster labels to each data point.\n",
    "        # اختصاص برچسب‌های خوشه به هر نقطه داده.\n",
    "        # تخصيص تسميات المجموعات لكل نقطة بيانات.\n",
    "        # Attribuer des étiquettes de clusters à chaque point de données.\n",
    "        return fcluster(self.linkage_matrix, t=self.threshold, criterion=self.criterion)"
   ]
  },
  {
   "cell_type": "code",
   "execution_count": 3,
   "id": "ceba5b43",
   "metadata": {},
   "outputs": [],
   "source": [
    "# Example usage:\n",
    "# داده‌های نمونه\n",
    "# بيانات عينة\n",
    "# Exemple de données\n",
    "data = np.array([[1, 2], [1, 4], [1, 0],\n",
    "                 [4, 2], [4, 4], [4, 0],\n",
    "                 [10, 10], [10, 12], [10, 8]])"
   ]
  },
  {
   "cell_type": "code",
   "execution_count": 4,
   "id": "b0973207",
   "metadata": {},
   "outputs": [],
   "source": [
    "# ایجاد شیء از کلاس خوشه‌بند سلسله‌مراتبی با روش 'ward' و آستانه ۲\n",
    "# إنشاء كائن من فئة الكلاستر الهرمي مع طريقة 'ward' والعتبة ٢\n",
    "# Création d'un objet de la classe HierarchicalClusterer avec la méthode 'ward' et un seuil de 2\n",
    "hierarchical_clusterer = HierarchicalClusterer(data, method='ward', threshold=2)"
   ]
  },
  {
   "cell_type": "code",
   "execution_count": 5,
   "id": "93d9aa3a",
   "metadata": {},
   "outputs": [],
   "source": [
    "# انجام عملیات خوشه‌بندی\n",
    "# إجراء عملية التصنيف\n",
    "# Effectuer le clustering\n",
    "hierarchical_clusterer.fit()"
   ]
  },
  {
   "cell_type": "code",
   "execution_count": 6,
   "id": "66dbdf88",
   "metadata": {},
   "outputs": [
    {
     "name": "stdout",
     "output_type": "stream",
     "text": [
      "Cluster Labels / برچسب‌های خوشه‌ها / تسميات المجموعات / Étiquettes de clusters: [3 3 4 5 6 5 1 2 1]\n"
     ]
    }
   ],
   "source": [
    "# پیش‌بینی برچسب‌های خوشه‌ها برای داده‌ها\n",
    "# التنبؤ بتسميات المجموعات للبيانات\n",
    "# Prédire les étiquettes de clusters pour les données\n",
    "labels = hierarchical_clusterer.predict()\n",
    "print(\"Cluster Labels / برچسب‌های خوشه‌ها / تسميات المجموعات / Étiquettes de clusters:\", labels)"
   ]
  },
  {
   "cell_type": "code",
   "execution_count": null,
   "id": "cdbac553",
   "metadata": {},
   "outputs": [],
   "source": []
  }
 ],
 "metadata": {
  "kernelspec": {
   "display_name": "Python 3 (ipykernel)",
   "language": "python",
   "name": "python3"
  },
  "language_info": {
   "codemirror_mode": {
    "name": "ipython",
    "version": 3
   },
   "file_extension": ".py",
   "mimetype": "text/x-python",
   "name": "python",
   "nbconvert_exporter": "python",
   "pygments_lexer": "ipython3",
   "version": "3.9.12"
  }
 },
 "nbformat": 4,
 "nbformat_minor": 5
}
