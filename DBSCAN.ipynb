{
 "cells": [
  {
   "cell_type": "code",
   "execution_count": 1,
   "id": "ecc5a209",
   "metadata": {},
   "outputs": [],
   "source": [
    "import numpy as np\n",
    "from sklearn.cluster import DBSCAN"
   ]
  },
  {
   "cell_type": "code",
   "execution_count": 2,
   "id": "8c0a0c3e",
   "metadata": {},
   "outputs": [],
   "source": [
    "class DBSCANClusterer:\n",
    "    def __init__(self, data, eps=0.5, min_samples=5):\n",
    "        \"\"\"\n",
    "        Initialize the DBSCAN clusterer with data, eps, and min_samples.\n",
    "        Initialiser le clusterer DBSCAN avec les données, eps et min_samples.\n",
    "        مقداردهی اولیه خوشه‌بند DBSCAN با داده‌ها، eps و min_samples.\n",
    "        تهيئة الكلاستر باستخدام DBSCAN بالبيانات، eps و min_samples.\n",
    "        \"\"\"\n",
    "        self.data = data\n",
    "        self.eps = eps\n",
    "        self.min_samples = min_samples\n",
    "        self.model = None\n",
    "\n",
    "    def fit(self):\n",
    "        \"\"\"\n",
    "        Apply DBSCAN clustering to the data.\n",
    "        اعمال خوشه‌بندی DBSCAN به داده‌ها.\n",
    "        تطبيق DBSCAN على البيانات للتصنيف.\n",
    "        Appliquer le clustering DBSCAN aux données.\n",
    "        \"\"\"\n",
    "        # Initialize DBSCAN model with specified eps and min_samples.\n",
    "        # Initialiser le modèle DBSCAN avec les paramètres eps et min_samples.\n",
    "        # مقداردهی اولیه مدل DBSCAN با پارامترهای eps و min_samples.\n",
    "        # تهيئة نموذج DBSCAN مع قيم eps و min_samples المحددة.\n",
    "        self.model = DBSCAN(eps=self.eps, min_samples=self.min_samples)\n",
    "        \n",
    "        # Fit the model to the data.\n",
    "        # برازش مدل به داده‌ها.\n",
    "        # ملاءمة النموذج على البيانات.\n",
    "        # Ajuster le modèle aux données.\n",
    "        self.model.fit(self.data)\n",
    "\n",
    "    def predict(self):\n",
    "        \"\"\"\n",
    "        Predict cluster labels for each data point.\n",
    "        Prédire les étiquettes de clusters pour chaque point de données.\n",
    "        پیش‌بینی برچسب‌های خوشه برای هر نقطه داده.\n",
    "        التنبؤ بتسميات المجموعات لكل نقطة بيانات.\n",
    "        \"\"\"\n",
    "        if self.model is None:\n",
    "            raise Exception(\"Model not fitted. Call the fit() method first.\")\n",
    "        \n",
    "        # Return the cluster labels for each data point.\n",
    "        # Retourner les étiquettes de clusters pour chaque point de données.\n",
    "        # بازگشت برچسب‌های خوشه برای هر نقطه داده.\n",
    "        # إرجاع تسميات المجموعات لكل نقطة بيانات.\n",
    "        return self.model.labels_"
   ]
  },
  {
   "cell_type": "code",
   "execution_count": 3,
   "id": "f6564a44",
   "metadata": {},
   "outputs": [],
   "source": [
    "# Example usage:\n",
    "# Exemple de données\n",
    "# داده‌های نمونه\n",
    "# بيانات عينة\n",
    "data = np.array([[1, 2], [1, 4], [1, 0],\n",
    "                 [4, 2], [4, 4], [4, 0],\n",
    "                 [10, 10], [10, 12], [10, 8]])"
   ]
  },
  {
   "cell_type": "code",
   "execution_count": 4,
   "id": "8070863f",
   "metadata": {},
   "outputs": [],
   "source": [
    "# ایجاد شیء از کلاس خوشه بندی DBSCAN با eps برابر ۲ و min_samples برابر ۲\n",
    "# إنشاء كائن من فئة الكلاستر DBSCAN مع eps تساوي ٢ و min_samples تساوي ٢\n",
    "# Création d'un objet de la classe DBSCANClusterer avec eps = 2 et min_samples = 2\n",
    "dbscan_clusterer = DBSCANClusterer(data, eps=2, min_samples=2)"
   ]
  },
  {
   "cell_type": "code",
   "execution_count": 5,
   "id": "2284dce3",
   "metadata": {},
   "outputs": [],
   "source": [
    "# Effectuer le clustering\n",
    "# انجام عملیات خوشه‌بندی\n",
    "# إجراء عملية التصنيف\n",
    "dbscan_clusterer.fit()"
   ]
  },
  {
   "cell_type": "code",
   "execution_count": 6,
   "id": "6f311e21",
   "metadata": {},
   "outputs": [
    {
     "name": "stdout",
     "output_type": "stream",
     "text": [
      "Cluster Labels / برچسب‌های خوشه‌ها / تسميات المجموعات / Étiquettes de clusters: [0 0 0 1 1 1 2 2 2]\n"
     ]
    }
   ],
   "source": [
    "# Prédire les étiquettes de clusters pour les données\n",
    "# پیش‌بینی برچسب‌های خوشه‌ها برای داده‌ها\n",
    "# التنبؤ بتسميات المجموعات للبيانات\n",
    "labels = dbscan_clusterer.predict()\n",
    "print(\"Cluster Labels / برچسب‌های خوشه‌ها / تسميات المجموعات / Étiquettes de clusters:\", labels)"
   ]
  },
  {
   "cell_type": "code",
   "execution_count": null,
   "id": "be5f8b99",
   "metadata": {},
   "outputs": [],
   "source": []
  }
 ],
 "metadata": {
  "kernelspec": {
   "display_name": "Python 3 (ipykernel)",
   "language": "python",
   "name": "python3"
  },
  "language_info": {
   "codemirror_mode": {
    "name": "ipython",
    "version": 3
   },
   "file_extension": ".py",
   "mimetype": "text/x-python",
   "name": "python",
   "nbconvert_exporter": "python",
   "pygments_lexer": "ipython3",
   "version": "3.9.12"
  }
 },
 "nbformat": 4,
 "nbformat_minor": 5
}
