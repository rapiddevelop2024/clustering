{
 "cells": [
  {
   "cell_type": "code",
   "execution_count": 1,
   "id": "759b28e0",
   "metadata": {},
   "outputs": [],
   "source": [
    "import numpy as np\n",
    "from sklearn.cluster import KMeans"
   ]
  },
  {
   "cell_type": "code",
   "execution_count": 11,
   "id": "2983121b",
   "metadata": {},
   "outputs": [],
   "source": [
    "class Clusterer:\n",
    "    def __init__(self, data, n_clusters):\n",
    "        \"\"\"\n",
    "        Initialize the Clusterer with data and number of clusters.\n",
    "        Initialiser le Clusterer avec les données et le nombre de clusters.\n",
    "        مقداردهی اولیه کلاستر با داده‌ها و تعداد خوشه‌ها.\n",
    "        تهيئة الكلاستر بالبيانات وعدد المجموعات.\n",
    "        \"\"\"\n",
    "        self.data = data\n",
    "        self.n_clusters = n_clusters\n",
    "        self.model = None\n",
    "\n",
    "    def fit(self):\n",
    "        \"\"\"\n",
    "        Apply KMeans clustering to the data.\n",
    "        Appliquer le clustering KMeans aux données.\n",
    "        اعمال خوشه‌بندی KMeans به داده‌ها.\n",
    "        تطبيق KMeans على البيانات للتصنيف.\n",
    "        \"\"\"\n",
    "        # Initialize KMeans model with the specified number of clusters.\n",
    "        # مقداردهی اولیه مدل KMeans با تعداد خوشه‌ها.\n",
    "        # تهيئة نموذج KMeans بعدد المجموعات.\n",
    "        # Initialiser le modèle KMeans avec le nombre de clusters.\n",
    "        self.model = KMeans(n_clusters=self.n_clusters)\n",
    "        \n",
    "        # Fit the model to the data.\n",
    "        # برازش مدل به داده‌ها.\n",
    "        # ملاءمة النموذج على البيانات.\n",
    "        # Ajuster le modèle aux données.\n",
    "        self.model.fit(self.data)\n",
    "\n",
    "    def predict(self):\n",
    "        \"\"\"\n",
    "        Predict cluster labels for each data point.\n",
    "        Prédire les étiquettes de clusters pour chaque point de données.\n",
    "        پیش‌بینی برچسب‌های خوشه برای هر نقطه داده.\n",
    "        التنبؤ بتسميات المجموعات لكل نقطة بيانات.\n",
    "        \"\"\"\n",
    "        if self.model is None:\n",
    "            raise Exception(\"Model not fitted. Call the fit() method first.\")\n",
    "        \n",
    "        # Return the cluster labels for each data point.\n",
    "        # بازگشت برچسب‌های خوشه برای هر نقطه داده.\n",
    "        # إرجاع تسميات المجموعات لكل نقطة بيانات.\n",
    "        # Retourner les étiquettes de clusters pour chaque point de données.\n",
    "        return self.model.predict(self.data)\n",
    "\n",
    "    def get_centroids(self):\n",
    "        \"\"\"\n",
    "        Get the centroids of the clusters.\n",
    "        Obtenir les centroids des clusters.\n",
    "        دریافت مراکز خوشه‌ها.\n",
    "        الحصول على مراكز المجموعات.\n",
    "        \"\"\"\n",
    "        if self.model is None:\n",
    "            raise Exception(\"Model not fitted. Call the fit() method first.\")\n",
    "        \n",
    "        # Return the cluster centroids.\n",
    "        # بازگشت مراکز خوشه‌ها.\n",
    "        # إرجاع مراكز المجموعات.\n",
    "        # Retourner les centres des clusters.\n",
    "        return self.model.cluster_centers_"
   ]
  },
  {
   "cell_type": "code",
   "execution_count": 12,
   "id": "aef6f590",
   "metadata": {},
   "outputs": [],
   "source": [
    "# Example usage:\n",
    "# داده‌های نمونه\n",
    "# بيانات عينة\n",
    "# Exemple de données\n",
    "data = np.array([[1, 2], [1, 4], [1, 0],\n",
    "                 [4, 2], [4, 4], [4, 0]])"
   ]
  },
  {
   "cell_type": "code",
   "execution_count": 14,
   "id": "88b93ab8",
   "metadata": {},
   "outputs": [],
   "source": [
    "# ایجاد شیء از کلاس خوشه‌بند با تعداد خوشه ۲\n",
    "# إنشاء كائن من فئة الكلاستر بعدد مجموعات ٢\n",
    "# Création d'un objet de la classe Clusterer avec 2 clusters\n",
    "clusterer = Clusterer(data, 2)\n"
   ]
  },
  {
   "cell_type": "code",
   "execution_count": 16,
   "id": "0399bffb",
   "metadata": {},
   "outputs": [],
   "source": [
    "# انجام عملیات خوشه‌بندی\n",
    "# إجراء عملية التصنيف\n",
    "# Effectuer le clustering\n",
    "clusterer.fit()"
   ]
  },
  {
   "cell_type": "code",
   "execution_count": 17,
   "id": "b2d109a9",
   "metadata": {},
   "outputs": [
    {
     "name": "stdout",
     "output_type": "stream",
     "text": [
      "Cluster Labels / برچسب‌های خوشه‌ها / تسميات المجموعات / Étiquettes de clusters: [0 0 0 1 1 1]\n"
     ]
    }
   ],
   "source": [
    "# پیش‌بینی برچسب‌های خوشه‌ها برای داده‌ها\n",
    "# التنبؤ بتسميات المجموعات للبيانات\n",
    "# Prédire les étiquettes de clusters pour les données\n",
    "labels = clusterer.predict()\n",
    "print(\"Cluster Labels / برچسب‌های خوشه‌ها / تسميات المجموعات / Étiquettes de clusters:\", labels)"
   ]
  },
  {
   "cell_type": "code",
   "execution_count": 18,
   "id": "307a03e0",
   "metadata": {},
   "outputs": [
    {
     "name": "stdout",
     "output_type": "stream",
     "text": [
      "Cluster Centroids / مراکز خوشه‌ها / مراكز المجموعات / Centroid des clusters: [[1. 2.]\n",
      " [4. 2.]]\n"
     ]
    }
   ],
   "source": [
    "# دریافت مراکز خوشه‌ها\n",
    "# الحصول على مراكز المجموعات\n",
    "# Obtenir les centroids des clusters\n",
    "centroids = clusterer.get_centroids()\n",
    "print(\"Cluster Centroids / مراکز خوشه‌ها / مراكز المجموعات / Centroid des clusters:\", centroids)"
   ]
  },
  {
   "cell_type": "code",
   "execution_count": null,
   "id": "e93ea351",
   "metadata": {},
   "outputs": [],
   "source": []
  }
 ],
 "metadata": {
  "kernelspec": {
   "display_name": "Python 3 (ipykernel)",
   "language": "python",
   "name": "python3"
  },
  "language_info": {
   "codemirror_mode": {
    "name": "ipython",
    "version": 3
   },
   "file_extension": ".py",
   "mimetype": "text/x-python",
   "name": "python",
   "nbconvert_exporter": "python",
   "pygments_lexer": "ipython3",
   "version": "3.9.12"
  }
 },
 "nbformat": 4,
 "nbformat_minor": 5
}
